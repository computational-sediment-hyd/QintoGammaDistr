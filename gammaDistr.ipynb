{
 "cells": [
  {
   "cell_type": "markdown",
   "metadata": {},
   "source": [
    "# 流量時系列分布をガンマ分布で表現する理由\n",
    "\n",
    "## 結論\n",
    "\n",
    "- 石原先生の論文:[流出函数による由良川洪水の解析](https://www.jstage.jst.go.jp/article/jscej1949/1958/57/1958_57_1/_article/-char/ja/)に示されるとおりである。\n",
    "- 論文中の「3.基礎式の解析」p.2までを以下に示す。"
   ]
  },
  {
   "cell_type": "markdown",
   "metadata": {},
   "source": [
    "## 2.基礎方程式の誘導\n",
    "\n",
    "貯留量$S$、流入量$I$および流出量$Q$の連続式は、\n",
    "\n",
    "$$\n",
    "\\begin{align}\n",
    "\\dfrac{dS}{dt}=I-Q\n",
    "\\end{align}\n",
    "$$\n",
    "\n",
    "である。\n",
    "\n",
    "$S=Q/\\alpha$が成立するものとすると、\n",
    "\n",
    "$$\n",
    "\\begin{align}\n",
    "\\dfrac{dS}{dt}=\\alpha\\left(I-Q\\right),\\alpha>0\n",
    "\\end{align}\n",
    "$$\n",
    "\n",
    "さらに$f(t)=I/Q$とすると、\n",
    "\n",
    "$$\n",
    "\\begin{align}\n",
    "dQ=\\alpha Q(f(t)-1)\n",
    "\\end{align}\n",
    "$$\n",
    "\n",
    "となる。変数分離法により、この常微分方程式を解くと、\n",
    "\n",
    "$$\n",
    "\\begin{align}\n",
    "\\dfrac{dQ}{Q} &=\\alpha(f(t)-1)dt \\\\\n",
    "\\int \\dfrac{dQ}{Q} &= \\int \\alpha(f(t)-1)dt \\\\\n",
    "\\log Q &= \\alpha \\int f(t)dt - \\alpha t + C\n",
    "\\end{align}\n",
    "$$\n",
    "\n",
    "ここで、$C$：積分定数である。流出量$Q$の式にすると、\n",
    "\n",
    "\n",
    "$$\n",
    "\\begin{align}\n",
    "% Q&=\\exp \\left[-\\alpha t + \\alpha \\int f(t) dt + C\\right] \\\\\n",
    "Q&=e^{-\\alpha t + \\alpha \\int f(t) dt + C} \\\\\n",
    "Q&=a e^{-\\alpha t}e^{\\alpha \\int f(t)dt}\n",
    "\\end{align}\n",
    "$$\n",
    "\n",
    "ここで、$e^C$を新たに$a$とする。\n"
   ]
  },
  {
   "cell_type": "markdown",
   "metadata": {},
   "source": [
    "次に$f(t)$を設定する。\n",
    "\n",
    "$t=0$の時、$Q=0$となるためには、\n",
    "\n",
    "$$\n",
    "\\begin{align}\n",
    "\\int f(t) dt \\rightarrow -\\infty\n",
    "\\end{align}\n",
    "$$\n",
    "\n",
    "$t=t_m$ (最大値を取る時刻)では、流入量$I$と流出量$Q$が等しくなるため、\n",
    "\n",
    "$$\n",
    "\\begin{align}\n",
    "f(t_m)=I/Q=1\n",
    "\\end{align}\n",
    "$$\n",
    "\n",
    "となる。\n"
   ]
  },
  {
   "cell_type": "markdown",
   "metadata": {},
   "source": [
    "このような関数形のうち、単純なものとして、$f(t)=t_m/t$を本論中では選択している。\n",
    "\n",
    "$$\n",
    "\\begin{align}\n",
    "\\int f(t)dt = \\int t_m/t dt = t_m \\log t +C\n",
    "\\end{align}\n",
    "$$\n",
    "\n",
    "であるのでこれを代入すると、\n",
    "\n",
    "$$\n",
    "\\begin{align}\n",
    "Q=ae^{-\\alpha t} e^{\\alpha \\int f(t)dt} = a t^n e^{-\\alpha t}\n",
    "\\end{align}\n",
    "$$\n",
    "\n",
    "ここで、$n=\\alpha t_m$，$n \\ge 1$\n"
   ]
  },
  {
   "cell_type": "markdown",
   "metadata": {},
   "source": [
    "流域面積をBとすると比流量（単位流域面積当たりの流量）は、\n",
    "\n",
    "$$\n",
    "\\begin{align}\n",
    "q=\\dfrac{Q}{B}=\\dfrac{a}{B}t^n e^{-\\alpha t} = a_1 t^n e^{-\\alpha t}\n",
    "\\end{align}\n",
    "$$\n",
    "\n",
    "\n",
    "\n",
    "ここで、$a_1=Q/B$である。\n"
   ]
  },
  {
   "cell_type": "markdown",
   "metadata": {},
   "source": [
    "## 3.基礎式の解析\n",
    "\n",
    "次に、$a_1$を消去する。条件としては単位雨量に対して単位流出流量曲線（以下、論文図―2）を考える。\n",
    "\n",
    "![image.png](https://computational-sediment-hyd.github.io/QintoGammaDistr/image.png)\n",
    "\n",
    "単位時間$dT$当たり、単位雨量が降ったとする。$q$を時間に関して$0$～$\\infty$まで積分すると、単位雨量$1\\cdot dT$と等しくなる。\n",
    "\n"
   ]
  },
  {
   "cell_type": "markdown",
   "metadata": {},
   "source": [
    "$$\n",
    "\\begin{align}\n",
    "\\int_0^\\infty q dt = \\int_0^\\infty a_1 t^n e^{-\\alpha t}dt = a_1 \\dfrac{\\Gamma(n+1)}{\\alpha^{n+1}}\n",
    "\\end{align}\n",
    "$$\n",
    "\n",
    "ここで、ガンマ関数の関係である以下の式を用いた。\n",
    "\n",
    "$$\n",
    "\\begin{align}\n",
    "\\int_0^\\infty s^{x-1} e^{-as}ds &= \\Gamma(x)/a^x \\\\\n",
    "a_1 \\dfrac{\\Gamma(n+1)}{\\alpha^{n+1}} & =1\\cdot dT \\\\\n",
    "a_1 &= \\dfrac{\\alpha^{n+1}}{\\Gamma(n+1)}dT \\\\\n",
    "q &=a_1t^n e^{-\\alpha t} = \\dfrac{\\alpha^{n+1}}{\\Gamma(n+1)}e^{-\\alpha t}t^n dT\n",
    "\\end{align}\n",
    "$$\n",
    "\n",
    "<!-- \\int_0^\\infty s^{x-1} e^{-as}ds=\\Gamma(x)/a^x\n",
    "a_1 \\dfrac{\\Gamma(n+1)}{\\alpha^{n+1}}=1\\cdot dT\n",
    "a_1 = \\dfrac{\\alpha^{n+1}}{\\Gamma(n+1)}dT\n",
    "q=a_1t^n e^{-\\alpha t} = \\dfrac{\\alpha^{n+1}}{\\Gamma(n+1)}e^{-\\alpha t}t^n dT -->\n",
    "\n",
    "となる。両辺の単位を合わせるために、係数$0.2778(=1000/3600)$を乗ずることで、式（9）となる。\n"
   ]
  },
  {
   "cell_type": "code",
   "execution_count": 1,
   "metadata": {},
   "outputs": [
    {
     "data": {
      "text/plain": [
       "[<matplotlib.lines.Line2D at 0x2425524dbd0>]"
      ]
     },
     "execution_count": 1,
     "metadata": {},
     "output_type": "execute_result"
    },
    {
     "data": {
      "image/png": "[encoded data removed]",
      "text/plain": [
       "<Figure size 640x480 with 1 Axes>"
      ]
     },
     "metadata": {},
     "output_type": "display_data"
    }
   ],
   "source": [
    "%matplotlib inline\n",
    "import numpy as np\n",
    "import matplotlib.pyplot as plt\n",
    "from scipy.stats import gamma\n",
    "\n",
    "x = np.linspace(0,10)\n",
    "gamma_pdf = gamma(a=2.0, scale=1.0).pdf\n",
    "y = gamma_pdf(x)\n",
    "\n",
    "plt.plot(x,y)"
   ]
  }
 ],
 "metadata": {
  "kernelspec": {
   "display_name": "Python 3 (ipykernel)",
   "language": "python",
   "name": "python3"
  },
  "language_info": {
   "codemirror_mode": {
    "name": "ipython",
    "version": 3
   },
   "file_extension": ".py",
   "mimetype": "text/x-python",
   "name": "python",
   "nbconvert_exporter": "python",
   "pygments_lexer": "ipython3",
   "version": "3.10.12"
  },
  "toc": {
   "base_numbering": 1,
   "nav_menu": {},
   "number_sections": true,
   "sideBar": true,
   "skip_h1_title": false,
   "title_cell": "Table of Contents",
   "title_sidebar": "Contents",
   "toc_cell": false,
   "toc_position": {},
   "toc_section_display": true,
   "toc_window_display": false
  }
 },
 "nbformat": 4,
 "nbformat_minor": 2
}
